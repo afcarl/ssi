{
 "metadata": {
  "signature": "sha256:57c85b94b77e5b72230af97833d8ac6f9f8d5d88ea46d537656cc918686cf0c2"
 },
 "nbformat": 3,
 "nbformat_minor": 0,
 "worksheets": [
  {
   "cells": [
    {
     "cell_type": "markdown",
     "metadata": {
      "slideshow": {
       "slide_type": "slide"
      }
     },
     "source": [
      "<h1><h1>Data Management and Organization</h1></h1>\n"
     ]
    },
    {
     "cell_type": "markdown",
     "metadata": {
      "slideshow": {
       "slide_type": "slide"
      }
     },
     "source": [
      "<h1>Data organization</h1>\n",
      "<p class=\"fragment level1\"><img src=\"images/dilbert.jpg\" class='float-right'></p>\n",
      "<li class=\"fragment level1\">Many of us waste a lot of time...</li>\n",
      "\t<li class=\"fragment level2\">Hunting down data files</li>\n",
      "\t<li class=\"fragment level2\">Trying to figure out what exactly we did</li>\n",
      "\t<li class=\"fragment level2\">Hoping nothing bad happens to our data</li>\n"
     ]
    },
    {
     "cell_type": "markdown",
     "metadata": {
      "slideshow": {
       "slide_type": "slide"
      }
     },
     "source": [
      "<h1>Any convention is better than no convention</h1>\n",
      "<li class=\"fragment level1\">There are better and worse ways to organize data</li>\n",
      "<li class=\"fragment level1\">But pretty much anything is better than saving to random locations on your drive</li>\n",
      "\t<li class=\"fragment level2\">Come up with some convention and stick with it. E.g...</li>\n",
      "<li class=\"fragment level1\">StudyName/</li>\n",
      "\t<li class=\"fragment level2\">Data/</li>\n",
      "\t<li class=\"fragment level2\">Scripts/</li>\n",
      "\t<li class=\"fragment level2\">Analyses/</li>\n",
      "\t<li class=\"fragment level2\">Results/</li>\n",
      "<li class=\"fragment level1\">And similarly for tools you might apply to different datasets</li>\n",
      "<li class=\"fragment level1\">There are packages designed expressly for this purpose</li>\n",
      "\t<li class=\"fragment level2\">E.g., John Myles White's [ProjectTemplate](http://projecttemplate.net/) package for R</li>\n"
     ]
    },
    {
     "cell_type": "markdown",
     "metadata": {
      "slideshow": {
       "slide_type": "slide"
      }
     },
     "source": [
      "<h1>Managing and manipulating data</h1>\n",
      "<li class=\"fragment level1\">Data are rarely in the right form the first time around</li>\n",
      "<li class=\"fragment level1\">R, Matlab, Python, etc. all feature extensive tools for data organization</li>\n",
      "<li class=\"fragment level1\">Use split-apply-combine liberally</li>\n"
     ]
    },
    {
     "cell_type": "markdown",
     "metadata": {
      "slideshow": {
       "slide_type": "slide"
      }
     },
     "source": [
      "<h1>Relational databases</h1>\n",
      "<li class=\"fragment level1\">Data are organized as a series of interlinked tables</li>\n",
      "<li class=\"fragment level1\">Useful when you need to store/access large amounts of data</li>\n",
      "<li class=\"fragment level1\">Why?</li>\n",
      "\t<li class=\"fragment level2\">Eliminates redundancy</li>\n",
      "\t<li class=\"fragment level2\">Faster access to data</li>\n",
      "\t<li class=\"fragment level2\">Allows complex structured queries</li>\n",
      "<li class=\"fragment level1\">Most DBs are SQL-based</li>\n",
      "<li class=\"fragment level1\">Provides a flexible and fast way to access information on-the-fly</li>\n"
     ]
    },
    {
     "cell_type": "markdown",
     "metadata": {
      "slideshow": {
       "slide_type": "slide"
      }
     },
     "source": [
      "<h1>![database schema](images/database.gif)</h1>\n"
     ]
    },
    {
     "cell_type": "markdown",
     "metadata": {
      "slideshow": {
       "slide_type": "slide"
      }
     },
     "source": [
      "<h1><h1>Predictive modeling</h1></h1>\n"
     ]
    },
    {
     "cell_type": "markdown",
     "metadata": {
      "slideshow": {
       "slide_type": "slide"
      }
     },
     "source": [
      "<h1>What's the point of analyzing our data?</h1>\n",
      "<li class=\"fragment level1\">To test a hypothesis</li>\n",
      "<li class=\"fragment level1\">To quantify the size of an effect</li>\n",
      "<li class=\"fragment level1\">To identify novel associations</li>\n",
      "<li class=\"fragment level1\">To predict an outcome</li>\n",
      "<li class=\"fragment level1\">In descending order of (perceived) importance in psychology</li>\n",
      "\t<li class=\"fragment level2\">Debatable, of course!</li>\n"
     ]
    },
    {
     "cell_type": "markdown",
     "metadata": {
      "slideshow": {
       "slide_type": "slide"
      }
     },
     "source": [
      "<h1>Hypothesis testing</h1>\n",
      "<li class=\"fragment level1\">Arguably the paradigmatic way to do psychological science</li>\n",
      "<li class=\"fragment level1\">Come up with a hypothesis, design an experiment to test it</li>\n",
      "<li class=\"fragment level1\">In theory (and often practice), this works phenomenally well</li>\n",
      "<li class=\"fragment level1\">But, some pitfalls:</li>\n",
      "\t<li class=\"fragment level2\">The most common statistical approaches make little sense [(Krantz, 1999)](http://www.unt.edu/rss/class/mike/5030/articles/krantznhst.pdf)</li>\n",
      "\t\t<li class=\"fragment level3\">p values are widely misunderstood and misused</li>\n",
      "\t\t<li class=\"fragment level3\">The null is always false</li>\n",
      "\t<li class=\"fragment level2\">Hypothesis testing often collapses into hypothesis confirmation</li>\n",
      "\t\t<li class=\"fragment level3\">\"False-positive\" psychology [(Simmons, Nelson, & Simonsohn, 2011)](http://pss.sagepub.com/content/22/11/1359.short)</li>\n",
      "\t\t<blockquote class=\"fragment bq\">\"If the data did not confirm the hypothesis, I talked to people in the lab about what needs to be done next, which would typically involve brainstorming about what needs to be changed, implementing the changes, preparing the new study and re-running it.\" --[Jens Foerster](http://www.socolab.de/main.php?id=66)</blockquote>"
     ]
    },
    {
     "cell_type": "markdown",
     "metadata": {
      "slideshow": {
       "slide_type": "slide"
      }
     },
     "source": [
      "<h1>Effect size estimation</h1>\n",
      "<li class=\"fragment level1\">Not just \"is there an effect?\", but \"how big is the effect?\"</li>\n",
      "\t<li class=\"fragment level2\">This is probably what we actually care about--not *just* knowing the sign</li>\n",
      "<li class=\"fragment level1\">More sensible statistical methods</li>\n",
      "\t<li class=\"fragment level2\">E.g., confidence intervals in place (or addition to) p values</li>\n",
      "<li class=\"fragment level1\">But, some pitfalls:</li>\n",
      "\t<li class=\"fragment level2\">Estimation requires more data</li>\n",
      "\t<li class=\"fragment level2\">People are less excited about your results</li>\n",
      "\t<li class=\"fragment level2\">Easy to overfit and overstate one's findings [(Ioannidis, 2008)](http://journals.lww.com/epidem/Abstract/2008/09000/Why_Most_Discovered_True_Associations_Are_Inflated.2.aspx)</li>\n"
     ]
    },
    {
     "cell_type": "markdown",
     "metadata": {
      "slideshow": {
       "slide_type": "slide"
      }
     },
     "source": [
      "<h1>Exploration</h1>\n",
      "<li class=\"fragment level1\">A noble (if underappreciated goal)</li>\n",
      "<li class=\"fragment level1\">The world is complicated and we aren't that smart</li>\n",
      "<li class=\"fragment level1\">How many interesting but non-intuitive findings are out there?</li>\n",
      "<li class=\"fragment level1\">Some pitfalls:</li>\n",
      "\t<li class=\"fragment level2\">How do we avoid \"fishing\" expeditions?</li>\n",
      "\t<li class=\"fragment level2\">The bigger the data, the more potential comparisons are available</li>\n",
      "\t<li class=\"fragment level2\">Strong pressure to present exploratory results as confirmatory ones</li>\n"
     ]
    },
    {
     "cell_type": "markdown",
     "metadata": {
      "slideshow": {
       "slide_type": "slide"
      }
     },
     "source": [
      "<h1>Prediction</h1>\n",
      "<li class=\"fragment level1\">Outside of applied areas, not taken very seriously</li>\n",
      "<li class=\"fragment level1\">\"Our goal is to *understand* the mind, not to *predict* behavior!\" --*Many Psychologists*</li>\n",
      "<li class=\"fragment level1\">Ability to predict certainly isn't *sufficient* for understanding</li>\n",
      "\t<li class=\"fragment level2\">But it's almost certainly *necessary*</li>\n"
     ]
    },
    {
     "cell_type": "markdown",
     "metadata": {
      "slideshow": {
       "slide_type": "slide"
      }
     },
     "source": [
      "<h1>Don't we already get prediction for free?</h1>\n",
      "<li class=\"fragment level1\">Isn't effect size a measure of how well we could predict something?</li>\n",
      "<li class=\"fragment level1\">Many psychology articles report predicting outcomes with high accuracy</li>\n",
      "<li class=\"fragment level1\">Isn't that just what R^2 is?</li>\n",
      "\t<li class=\"fragment level2\">No!</li>\n",
      "<li class=\"fragment level1\">Psychologists almost never actually predict anything</li>\n",
      "<li class=\"fragment level1\">Why not?</li>\n"
     ]
    },
    {
     "cell_type": "markdown",
     "metadata": {
      "slideshow": {
       "slide_type": "slide"
      }
     },
     "source": [
      "<h1>Overfitting</h1>\n",
      "<li class=\"fragment level1\">The \"cardinal sin\" in machine learning</li>\n",
      "<li class=\"fragment level1\">Most commonly due to the use of same data for training and testing</li>\n",
      "<li class=\"fragment level1\">Classical estimation techniques fit both signal and noise</li>\n",
      "<li class=\"fragment level1\">Compounded by researcher degrees of freedom</li>\n",
      "\t<li class=\"fragment level2\">E.g., which of 5 models should you report? The one that works best!</li>\n",
      "\t<li class=\"fragment level2\">But avoiding \"p-hacking\" still doesn't mean your model is performing well</li>\n",
      "<li class=\"fragment level1\">The more flexible your model, the better your results will *seem*</li>\n",
      "\t<li class=\"fragment level2\">But generalization will suffer</li>\n"
     ]
    },
    {
     "cell_type": "markdown",
     "metadata": {
      "slideshow": {
       "slide_type": "slide"
      }
     },
     "source": [
      "<h1>Overfitting</h1>\n"
     ]
    },
    {
     "cell_type": "code",
     "collapsed": false,
     "input": [
      "# Example borrowed in whole from scikit-learn docs\n",
      "import numpy as np\n",
      "import matplotlib.pyplot as plt\n",
      "from sklearn.pipeline import Pipeline\n",
      "from sklearn.preprocessing import PolynomialFeatures\n",
      "from sklearn.linear_model import LinearRegression\n",
      "\n",
      "\n",
      "np.random.seed(0)\n",
      "\n",
      "n_samples = 30\n",
      "degrees = [1, 4, 15]\n",
      "\n",
      "true_fun = lambda X: np.cos(1.5 * np.pi * X)\n",
      "X = np.sort(np.random.rand(n_samples))\n",
      "y = true_fun(X) + np.random.randn(n_samples) * 0.1\n",
      "\n",
      "plt.figure(figsize=(14, 4))\n",
      "for i in range(len(degrees)):\n",
      "    ax = plt.subplot(1, len(degrees), i+1)\n",
      "    plt.setp(ax, xticks=(), yticks=())\n",
      "\n",
      "    polynomial_features = PolynomialFeatures(degree=degrees[i],\n",
      "                                             include_bias=False)\n",
      "    linear_regression = LinearRegression()\n",
      "    pipeline = Pipeline([(\"polynomial_features\", polynomial_features),\n",
      "                         (\"linear_regression\", linear_regression)])\n",
      "    pipeline.fit(X[:, np.newaxis], y)\n",
      "\n",
      "    X_test = np.linspace(0, 1, 100)\n",
      "    plt.plot(X_test, pipeline.predict(X_test[:, np.newaxis]), label=\"Model\")\n",
      "    plt.plot(X_test, true_fun(X_test), label=\"True function\")\n",
      "    plt.scatter(X, y, label=\"Samples\")\n",
      "    plt.xlabel(\"x\")\n",
      "    plt.ylabel(\"y\")\n",
      "    plt.xlim((0, 1))\n",
      "    plt.ylim((-2, 2))\n",
      "    plt.legend(loc=\"best\")\n",
      "    plt.title(\"Degree %d\" % degrees[i])\n",
      "plt.show()"
     ],
     "language": "python",
     "metadata": {
      "slideshow": {
       "slide_type": "fragment"
      }
     },
     "outputs": [
      {
       "metadata": {},
       "output_type": "display_data",
       "png": "[encoded data removed]",
       "text": [
        "<matplotlib.figure.Figure at 0x112de4610>"
       ]
      }
     ],
     "prompt_number": 3
    },
    {
     "cell_type": "markdown",
     "metadata": {
      "slideshow": {
       "slide_type": "slide"
      }
     },
     "source": [
      "<h1>How bad is the problem?</h1>\n",
      "<li class=\"fragment level1\">Let's simulate overfitting as a function of:</li>\n",
      "\t<li class=\"fragment level2\">sample size</li>\n",
      "\t<li class=\"fragment level2\">number of predictive features</li>\n",
      "\t<li class=\"fragment level2\">strength of each feature</li>\n"
     ]
    },
    {
     "cell_type": "markdown",
     "metadata": {
      "slideshow": {
       "slide_type": "slide"
      }
     },
     "source": [
      "<h1>Machine learning</h1>\n",
      "<blockquote class=\"fragment bq\">A computer program is said to learn from experience E with respect to some class of tasks T and performance measure P, if its performance at tasks in T, as measured by P, improves with experience E (Mitchell, 1997)</blockquote><li class=\"fragment level1\">Or, more simply: a field concerned with developing predictive algorithms that improve performance as the amount of available data increases</li>\n",
      "<li class=\"fragment level1\">Covers an enormous range of approaches</li>\n",
      "\t<li class=\"fragment level2\">Classical regression, Bayesian modeling, clustering algorithms, penalized regression, support vector machines, decision trees, etc.</li>\n",
      "<li class=\"fragment level1\">More of a way of thinking about problems than a distinct field of statistics or CS</li>\n",
      "\t<li class=\"fragment level2\">Virtually *any* statistical model can be approached from a ML perspective</li>\n",
      "<li class=\"fragment level1\">How is this relevant to psychology?</li>\n"
     ]
    },
    {
     "cell_type": "markdown",
     "metadata": {
      "slideshow": {
       "slide_type": "slide"
      }
     },
     "source": [
      "<h1>Prediction is hard: the Netflix Prize</h1>\n",
      "<li class=\"fragment level1\">$1 million dollars to the first group to improve rating predictions by 10%</li>\n",
      "<li class=\"fragment level1\">Took 3 years, tens of thousands of person hours to win</li>\n",
      "\t<li class=\"fragment level2\">Diminishing returns set in quickly</li>\n",
      "<li class=\"fragment level1\">...and the solution was never implemented:</li>\n",
      "\t<blockquote class=\"fragment bq\">\"We evaluated some of the new methods offline but the additional accuracy gains that we measured did not seem to justify the engineering effort needed to bring them into a production environment.\"</blockquote><li class=\"fragment level1\">Real-world prediction is *hard*</li>\n",
      "\t<li class=\"fragment level2\">Much harder than you would think from reading psychology articles</li>\n"
     ]
    },
    {
     "cell_type": "markdown",
     "metadata": {
      "slideshow": {
       "slide_type": "slide"
      }
     },
     "source": [
      "<h1>Why so difficult?</h1>\n",
      "<li class=\"fragment level1\">Three different problems</li>\n",
      "\t<li class=\"fragment level2\">Feature extraction/engineering</li>\n",
      "\t<li class=\"fragment level2\">Feature selection: Deciding which features to use</li>\n",
      "\t<li class=\"fragment level2\">Predictive modeling: Combining the chosen features optimally</li>\n",
      "<li class=\"fragment level1\">Might be easier to see in a genetic context</li>\n",
      "\t<li class=\"fragment level2\">What kinds of features do we use? SNPs? CNVs? Gene expression levels? Etc...</li>\n",
      "\t<li class=\"fragment level2\">Given 1,000,000 SNPs, which ones should we focus on?</li>\n",
      "\t<li class=\"fragment level2\">Suppose you identify 500 'good' SNPs, how should we combine them to generate a prediction?</li>\n",
      "<li class=\"fragment level1\">There's no free lunch ([seriously](http://en.wikipedia.org/wiki/No_free_lunch_theorem))</li>\n"
     ]
    },
    {
     "cell_type": "markdown",
     "metadata": {
      "slideshow": {
       "slide_type": "slide"
      }
     },
     "source": [
      "<h1>Feature engineering and feature selection</h1>\n",
      "<li class=\"fragment level1\">Familiar problems to most psychologists</li>\n",
      "<li class=\"fragment level1\">Much/most of psychology can be recast in these terms</li>\n",
      "\t<li class=\"fragment level2\">Which variables matter for predicting the outcome you care about?</li>\n",
      "<li class=\"fragment level1\">Almost completely open-ended</li>\n",
      "\t<li class=\"fragment level2\">You can always think of more things to measure that could make a difference</li>\n",
      "<li class=\"fragment level1\">What \"predicts\"...</li>\n",
      "\t<li class=\"fragment level2\">Where people like to live?</li>\n",
      "\t<li class=\"fragment level2\">Who dates who?</li>\n",
      "\t<li class=\"fragment level2\">Which candidate you vote for?</li>\n",
      "\t<li class=\"fragment level2\">How quickly you respond to a stimulus on the 32nd trial of a color-word Stroop task?</li>\n"
     ]
    },
    {
     "cell_type": "markdown",
     "metadata": {
      "slideshow": {
       "slide_type": "slide"
      }
     },
     "source": [
      "<h1>The feature selection problem in dating</h1>\n",
      "<li class=\"fragment level1\">What features would help you predict whether two people are compatible?</li>\n",
      "\t<li class=\"fragment level2\">Physical appearance</li>\n",
      "\t<li class=\"fragment level2\">Personality traits</li>\n",
      "\t<li class=\"fragment level2\">Interests and vocations</li>\n",
      "\t<li class=\"fragment level2\">Political and religious attitudes</li>\n",
      "\t<li class=\"fragment level2\">Desire for a family</li>\n",
      "\t<li class=\"fragment level2\">Expectations</li>\n",
      "\t<li class=\"fragment level2\">Cultural norms</li>\n",
      "\t<li class=\"fragment level2\">Circadian rhythms</li>\n",
      "\t<li class=\"fragment level2\">Fashion sense</li>\n",
      "\t<li class=\"fragment level2\">That annoying thing he does when he taps his teeth with his fingers, urghhhh, I can't stand it</li>\n",
      "\t<li class=\"fragment level2\">Etc. etc. etc. etc. etc. etc.</li>\n",
      "<li class=\"fragment level1\">Nooooooo! So many features!</li>\n",
      "\t<li class=\"fragment level2\">All of these may have \"large\" effects, yet still predict very little. Why?</li>\n",
      "\t<li class=\"fragment level2\">Worse, the important features will vary by person!</li>\n",
      "\t<li class=\"fragment level2\">Worse still, there are bound to be all kinds of interactions!!</li>\n"
     ]
    },
    {
     "cell_type": "markdown",
     "metadata": {
      "slideshow": {
       "slide_type": "slide"
      }
     },
     "source": [
      "<h1>Which features?</h1>\n",
      "<li class=\"fragment level1\">Anything you can measure that might predict the outcome is a feature</li>\n",
      "<li class=\"fragment level1\">There's no obvious limit to the number of potential features</li>\n",
      "<li class=\"fragment level1\">We can't model all of them, so we need to select the right ones</li>\n",
      "<li class=\"fragment level1\">How do we know which ones are the right ones?</li>\n",
      "\t<li class=\"fragment level2\">Domain expertise</li>\n",
      "\t<li class=\"fragment level2\">Cleverness</li>\n",
      "\t<li class=\"fragment level2\">Experimentation</li>\n",
      "\t<li class=\"fragment level2\">Algorithmic approaches</li>\n",
      "<li class=\"fragment level1\">With bad features, no amount of clever analysis will help you</li>\n",
      "<li class=\"fragment level1\">With good features, even simple predictive models may do quite well</li>\n",
      "<li class=\"fragment level1\">Recasting psychological questions in these terms can be helpful</li>\n",
      "\t<li class=\"fragment level2\">The world is complex, most phenomena will have many contributing factors</li>\n"
     ]
    },
    {
     "cell_type": "markdown",
     "metadata": {
      "slideshow": {
       "slide_type": "slide"
      }
     },
     "source": [
      "<h1>Which model?</h1>\n",
      "<li class=\"fragment level1\">You've come up with a bunch of features! Congratulations!</li>\n",
      "<li class=\"fragment level1\">Now it's time to use that knowledge</li>\n",
      "<li class=\"fragment level1\">How do we generate accurate predictions?</li>\n",
      "<li class=\"fragment level1\">Generic Psychologist's response: USE MULTIPLE REGRESSION!</li>\n",
      "\t<li class=\"fragment level2\">But this isn't a good approach when you have a lot of features</li>\n",
      "<li class=\"fragment level1\">Why?</li>\n"
     ]
    },
    {
     "cell_type": "markdown",
     "metadata": {
      "slideshow": {
       "slide_type": "slide"
      }
     },
     "source": [
      "<h1>Overfitting</h1>\n"
     ]
    },
    {
     "cell_type": "code",
     "collapsed": false,
     "input": [
      "# Example borrowed in whole from scikit-learn docs\n",
      "import numpy as np\n",
      "import matplotlib.pyplot as plt\n",
      "from sklearn.pipeline import Pipeline\n",
      "from sklearn.preprocessing import PolynomialFeatures\n",
      "from sklearn.linear_model import LinearRegression\n",
      "\n",
      "\n",
      "np.random.seed(0)\n",
      "\n",
      "n_samples = 30\n",
      "degrees = [1, 4, 15]\n",
      "\n",
      "true_fun = lambda X: np.cos(1.5 * np.pi * X)\n",
      "X = np.sort(np.random.rand(n_samples))\n",
      "y = true_fun(X) + np.random.randn(n_samples) * 0.1\n",
      "\n",
      "plt.figure(figsize=(14, 4))\n",
      "for i in range(len(degrees)):\n",
      "    ax = plt.subplot(1, len(degrees), i+1)\n",
      "    plt.setp(ax, xticks=(), yticks=())\n",
      "\n",
      "    polynomial_features = PolynomialFeatures(degree=degrees[i],\n",
      "                                             include_bias=False)\n",
      "    linear_regression = LinearRegression()\n",
      "    pipeline = Pipeline([(\"polynomial_features\", polynomial_features),\n",
      "                         (\"linear_regression\", linear_regression)])\n",
      "    pipeline.fit(X[:, np.newaxis], y)\n",
      "\n",
      "    X_test = np.linspace(0, 1, 100)\n",
      "    plt.plot(X_test, pipeline.predict(X_test[:, np.newaxis]), label=\"Model\")\n",
      "    plt.plot(X_test, true_fun(X_test), label=\"True function\")\n",
      "    plt.scatter(X, y, label=\"Samples\")\n",
      "    plt.xlabel(\"x\")\n",
      "    plt.ylabel(\"y\")\n",
      "    plt.xlim((0, 1))\n",
      "    plt.ylim((-2, 2))\n",
      "    plt.legend(loc=\"best\")\n",
      "    plt.title(\"Degree %d\" % degrees[i])\n",
      "plt.show()"
     ],
     "language": "python",
     "metadata": {
      "slideshow": {
       "slide_type": "fragment"
      }
     },
     "outputs": [
      {
       "metadata": {},
       "output_type": "display_data",
       "png": "[encoded data removed]",
       "text": [
        "<matplotlib.figure.Figure at 0x112fa64d0>"
       ]
      }
     ],
     "prompt_number": 4
    },
    {
     "cell_type": "markdown",
     "metadata": {
      "slideshow": {
       "slide_type": "slide"
      }
     },
     "source": [
      "<h1>The bias-variance tradeoff</h1>\n",
      "<p class=\"fragment level1\">![bias-variance](images/bias-variance.jpg)</p>\n",
      "<li class=\"fragment level1\">The more you trust the data in front of you, the less well you can generalize</li>\n",
      "<li class=\"fragment level1\">Need to capture the regularities without capturing the noise</li>\n",
      "<li class=\"fragment level1\">High bias leads to underfitting; high variance leads to overfitting</li>\n",
      "<li class=\"fragment level1\">Ordinary least-squares regression is a low-bias, high-variance method</li>\n"
     ]
    },
    {
     "cell_type": "markdown",
     "metadata": {
      "slideshow": {
       "slide_type": "slide"
      }
     },
     "source": [
      "<h1>The bias-variance tradeoff</h1>\n",
      "![biasvariance](images/prediction-error.png)<span class='citation'>[http://scott.fortmann-roe.com/docs/BiasVariance.html](http://scott.fortmann-roe.com/docs/BiasVariance.html)</span>"
     ]
    },
    {
     "cell_type": "markdown",
     "metadata": {
      "slideshow": {
       "slide_type": "slide"
      }
     },
     "source": [
      "<h1>How can we assess generalization performance?</h1>\n",
      "<li class=\"fragment level1\">Best way is true generalization--test a new sample!</li>\n",
      "\t<li class=\"fragment level2\">But that's hard/expensive</li>\n",
      "<li class=\"fragment level1\">A simple approach that's still pretty good: <h3>cross-validation</h3></li>\n",
      "\t<li class=\"fragment level2\">Use different subsets of the data to train and test</li>\n",
      "\t<li class=\"fragment level2\">Produces minimally biased estimates of model fit</li>\n",
      "<li class=\"fragment level1\">Most common strategy: *k*-folds cross-validation</li>\n",
      "<li class=\"fragment level1\"><u>Cross-validation can be used with any model</u>, including multiple regression</li>\n",
      "\t<li class=\"fragment level2\">So you have no excuse for reporting crazy R^2 values!</li>\n"
     ]
    },
    {
     "cell_type": "markdown",
     "metadata": {
      "slideshow": {
       "slide_type": "slide"
      }
     },
     "source": [
      "<h1>K-fold Cross-validation</h1>\n",
      "![k-fold](images/10_fold_cv.png) <span class='citation'>[http://chrisjmccormick.wordpress.com/2013/07/31/k-fold-cross-validation-with-matlab-code/](http://chrisjmccormick.wordpress.com/2013/07/31/k-fold-cross-validation-with-matlab-code/)</span>"
     ]
    },
    {
     "cell_type": "markdown",
     "metadata": {
      "slideshow": {
       "slide_type": "slide"
      }
     },
     "source": [
      "<h1>Supervised vs. unsupervised learning</h1>\n",
      "<li class=\"fragment level1\">Supervised learning: develop a model that can classify or predict cases whose true value is already know</li>\n",
      "\t<li class=\"fragment level2\">E.g., developing an algorithm to predict whether or not someone meets criteria for depression, where clinician diagnosis is the gold standard</li>\n",
      "\t<li class=\"fragment level2\">Ideal when the ground truth is known for a training sample and the goal is to generalize to new data</li>\n",
      "<li class=\"fragment level1\">Unsupervised learning: identify clusters or groups of observations without any prior knowledge of their membership</li>\n",
      "\t<li class=\"fragment level2\">E.g., identify clusters of individuals who show similar patterns of depressive symptoms</li>\n",
      "\t<li class=\"fragment level2\">Unconstrained by prior expectations, and may have greater potential to reveal new knowledge</li>\n"
     ]
    },
    {
     "cell_type": "markdown",
     "metadata": {
      "slideshow": {
       "slide_type": "slide"
      }
     },
     "source": [
      "<h1>Clustering methods</h1>\n",
      "![clustering](images/clustering.png)<span class='citation'>[http://scikit-learn.org/stable/modules/clustering.html](http://scikit-learn.org/stable/modules/clustering.html)</span>"
     ]
    },
    {
     "cell_type": "markdown",
     "metadata": {
      "slideshow": {
       "slide_type": "slide"
      }
     },
     "source": [
      "<h1>Putting it together</h1>\n",
      "<li class=\"fragment level1\">In practice, feature selection and predictive modeling are usually done interactively and iteratively:</li>\n",
      "\t<li class=\"fragment level2\">Select some features</li>\n",
      "\t<li class=\"fragment level2\">Fit some models</li>\n",
      "\t<li class=\"fragment level2\">Evaluate the results</li>\n",
      "\t<li class=\"fragment level2\">Repeat and refine</li>\n",
      "<li class=\"fragment level1\">This is a sensible--perhaps necessary--approach</li>\n",
      "<li class=\"fragment level1\">But it can still be dangerous. Why?</li>\n",
      "\t<li class=\"fragment level2\">If you keep tweaking the model based on the 'cross-validated' results, they're no longer truly unbiased</li>\n",
      "<li class=\"fragment level1\">There's no free lunch!</li>\n"
     ]
    },
    {
     "cell_type": "markdown",
     "metadata": {
      "slideshow": {
       "slide_type": "slide"
      }
     },
     "source": [
      "<h1>Why should we care?</h1>\n",
      "<li class=\"fragment level1\">An effect is rarely interesting unless it generalizes out-of-sample</li>\n",
      "<li class=\"fragment level1\">Our models must be able to approximate the complexity of the thing we're studying</li>\n",
      "<li class=\"fragment level1\">Machine learning techniques aren't necessarily blackboxes</li>\n",
      "\t<li class=\"fragment level2\">They're powerful tools that can be used to advance theory</li>\n"
     ]
    }
   ],
   "metadata": {}
  }
 ]
}