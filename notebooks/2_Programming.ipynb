{
 "metadata": {
  "signature": "sha256:9489aa2d8f230971712db2f99f2525799258c80865e796ff3104962e0238c4da"
 },
 "nbformat": 3,
 "nbformat_minor": 0,
 "worksheets": [
  {
   "cells": [
    {
     "cell_type": "markdown",
     "metadata": {
      "slideshow": {
       "slide_type": "slide"
      }
     },
     "source": [
      "<h1><h1>The scientific computing ecosystem</h1></h1>\n",
      "<h3>A very brief introduction for psychologists</h3>"
     ]
    },
    {
     "cell_type": "markdown",
     "metadata": {
      "slideshow": {
       "slide_type": "slide"
      }
     },
     "source": [
      "<h1>A programmer and a psychologist walk into a bar...</h1>\n",
      "<li class=\"fragment level1\">...actually, this rarely happens</li>\n",
      "<li class=\"fragment level1\">Relatively few psychologists program</li>\n",
      "\t<li class=\"fragment level2\">Some psychologists go into psychology *because* you don't need technical skills</li>\n",
      "\t<li class=\"fragment level2\">Many psychologists think they don't need to program to be good researchers</li>\n",
      "\t<li class=\"fragment level2\">Many psychologists think it's just not for them</li>\n",
      "<li class=\"fragment level1\">It's true that you don't *need* to learn to program</li>\n",
      "\t<li class=\"fragment level2\">You also don't *need* to know multiple regression</li>\n",
      "\t<li class=\"fragment level2\">But the gap between what you can do with vs. without these skills is enormous (and growing)</li>\n",
      "<li class=\"fragment level1\">A few examples...</li>\n"
     ]
    },
    {
     "cell_type": "markdown",
     "metadata": {
      "slideshow": {
       "slide_type": "slide"
      }
     },
     "source": [
      "<h1>Example 1</h1>\n",
      "<p class=\"fragment level1\">Say we have [10 years of data](https://osf.io/ctqxo/wiki/home/) from the [Sexuality IAT](https://implicit.harvard.edu/implicit/Study?tid=-1) at [Project Implicit](https://implicit.harvard.edu/implicit/) we want to analyze. Each data set looks like this:</p>\n"
     ]
    },
    {
     "cell_type": "code",
     "collapsed": false,
     "input": [
      "data2004 = pd.read_csv('/Users/tal/data/iat-sexuality/Sexuality_IAT_public_2004/Sexuality IAT.public.2004.csv')\n",
      "print \"Dataset dimensions: \", data2004.shape\n",
      "print \"\\nFirst 3 rows:\\n\", data2004.head(3)"
     ],
     "language": "python",
     "metadata": {
      "slideshow": {
       "slide_type": "fragment"
      }
     },
     "outputs": [
      {
       "output_type": "stream",
       "stream": "stdout",
       "text": [
        "Dataset dimensions:  (40094, 102)\n",
        "\n",
        "First 3 rows:\n",
        "   session_id session_status      study_name                 date  month  day  \\\n",
        "0     1052706           C     Demo.Sexuality  2004-04-30 09:46:13      4   30   \n",
        "1     1052724           C     Demo.Sexuality  2004-04-30 09:51:04      4   30   \n",
        "2     1052756                 Demo.Sexuality  2004-04-30 10:03:11      4   30   \n",
        "\n",
        "   year  hour  weekday  age  ethnic  num sex  sexuality  sexuality_3  \\\n",
        "0  2004     9        6  NaN     NaN  .              NaN          NaN   \n",
        "1  2004     9        6  NaN     NaN  .              NaN          NaN   \n",
        "2  2004    10        6   18       6  0     f          2            2   \n",
        "\n",
        "   D_biep.Straight_Good_all  Mn_RT_all_3467  N_3467  PCT_error_3467  Order      \n",
        "0                  0.079931      697.691667     120       13.333333      2 ...  \n",
        "1                  0.365879      740.266667     120       12.500000      1 ...  \n",
        "2                       NaN             NaN     NaN             NaN    NaN ...  \n",
        "\n",
        "[3 rows x 102 columns]\n"
       ]
      }
     ],
     "prompt_number": 107
    },
    {
     "cell_type": "markdown",
     "metadata": {
      "slideshow": {
       "slide_type": "fragment"
      }
     },
     "source": [
      "<p class=\"fragment level1\">We want to merge these 10 datasets--which have different columns--into one</p>\n"
     ]
    },
    {
     "cell_type": "markdown",
     "metadata": {
      "slideshow": {
       "slide_type": "slide"
      }
     },
     "source": [
      "<h1>The hard way</h1>\n",
      "<p class=\"fragment level1\">Could do this by cutting and pasting, or clicking through SPSS/Excel menus, but...</p>\n",
      "\t<li class=\"fragment level2\">Complicated</li>\n",
      "\t<li class=\"fragment level2\">Time-consuming</li>\n",
      "\t<li class=\"fragment level2\">Error-prone</li>\n",
      "\t<li class=\"fragment level2\">Non-reproducible</li>\n"
     ]
    },
    {
     "cell_type": "markdown",
     "metadata": {
      "slideshow": {
       "slide_type": "slide"
      }
     },
     "source": [
      "<h1>The programmatic way</h1>\n"
     ]
    },
    {
     "cell_type": "code",
     "collapsed": false,
     "input": [
      "import pandas as pd\n",
      "datasets = []\n",
      "for y in range(2004, 2014):\n",
      "        filename = '/Users/tal/data/iat-sexuality/Sexuality_IAT_public_%d/Sexuality IAT.public.%d.csv' % (y, y)\n",
      "        datasets.append(pd.read_csv(filename))\n",
      "data = pd.concat(datasets, axis=0)\n",
      "print \"Merged dataset dimensions: \", data.shape\n",
      "print \"\\nFirst 5 rows:\\n\", data.head(5)"
     ],
     "language": "python",
     "metadata": {
      "slideshow": {
       "slide_type": "fragment"
      }
     },
     "outputs": [
      {
       "output_type": "stream",
       "stream": "stdout",
       "text": [
        "Merged dataset dimensions:  (1773681, 149)\n",
        "\n",
        "First 5 rows:\n",
        "  CountyNo  D_biep.Straight_Good_36  D_biep.Straight_Good_all  IAT_overall  \\\n",
        "0      NaN                 0.099561                  0.079931     0.060300   \n",
        "1      NaN                -0.010238                  0.365879     0.741996   \n",
        "2      NaN                      NaN                       NaN          NaN   \n",
        "3      NaN                 0.275831                  0.207002     0.138173   \n",
        "4      NaN                      NaN                       NaN          NaN   \n",
        "\n",
        "  MSAName MSANo  Mn_RT_all_3  Mn_RT_all_3467  Mn_RT_all_4  Mn_RT_all_6  \\\n",
        "0     NaN   NaN       775.75      697.691667      671.975       749.80   \n",
        "1     NaN   NaN       769.05      740.266667      652.950       766.40   \n",
        "2     NaN   NaN          NaN             NaN          NaN          NaN   \n",
        "3     NaN   NaN      1083.05      883.133333      817.550      1002.15   \n",
        "4     NaN   NaN          NaN             NaN          NaN          NaN   \n",
        "\n",
        "   Mn_RT_all_7  Mn_RT_correct_3  Mn_RT_correct_4  Mn_RT_correct_6  \\\n",
        "0      658.325       724.062500       626.264706       705.736842   \n",
        "1      800.125       744.500000       618.416667       730.941176   \n",
        "2          NaN              NaN              NaN              NaN   \n",
        "3      789.250      1074.526316       788.526316      1002.150000   \n",
        "4          NaN              NaN              NaN              NaN   \n",
        "\n",
        "   Mn_RT_correct_7  N_3  N_3467  N_4  N_5  N_6      \n",
        "0       615.914286   20     120   40   40   20 ...  \n",
        "1       777.882353   20     120   40   40   20 ...  \n",
        "2              NaN  NaN     NaN  NaN  NaN  NaN ...  \n",
        "3       789.250000   20     120   40   40   20 ...  \n",
        "4              NaN  NaN     NaN  NaN  NaN  NaN ...  \n",
        "\n",
        "[5 rows x 149 columns]\n"
       ]
      }
     ],
     "prompt_number": 108
    },
    {
     "cell_type": "markdown",
     "metadata": {
      "slideshow": {
       "slide_type": "slide"
      }
     },
     "source": [
      "<h1>Example 2</h1>\n",
      "<li class=\"fragment level1\">We want to quantify the Sexuality IAT effect by country</li>\n",
      "<li class=\"fragment level1\">\"Split-apply-combine\": a common strategy for analyzing data ([Wickham, 2011](http://www.jstatsoft.org/v40/i01/paper))</li>\n",
      "\t<li class=\"fragment level2\">Divide the data into groups (in this case, by country)</li>\n",
      "\t<li class=\"fragment level2\">Operate on each piece separately</li>\n",
      "\t<li class=\"fragment level2\">Combine the result into one data structure</li>\n",
      "<li class=\"fragment level1\">Can be done very elegantly and quickly in R, pandas, etc.</li>\n"
     ]
    },
    {
     "cell_type": "markdown",
     "metadata": {
      "slideshow": {
       "slide_type": "slide"
      }
     },
     "source": [
      "<h1>Split-apply-combine</h1>\n"
     ]
    },
    {
     "cell_type": "code",
     "collapsed": false,
     "input": [
      "# We group by citizenship, then select only the IAT effect column.\n",
      "# Then we apply three built-in functions to each group: mean, std, and count.\n",
      "grps = data.groupby('citizenship')['IAT_overall'].agg(['mean', 'std','count'])\n",
      "# Round to two decimals\n",
      "grps = grps.apply(lambda x: np.round(x, 2))\n",
      "# Print in descending order of count.\n",
      "print grps.sort('count', ascending=False)"
     ],
     "language": "python",
     "metadata": {
      "slideshow": {
       "slide_type": "fragment"
      }
     },
     "outputs": [
      {
       "output_type": "stream",
       "stream": "stdout",
       "text": [
        "             mean   std   count\n",
        "citizenship                    \n",
        "US           0.30  0.49  646653\n",
        ".            0.29  0.50  185634\n",
        "             0.30  0.51   81638\n",
        "CA           0.27  0.49   30588\n",
        "UK           0.27  0.49   21631\n",
        "AU           0.28  0.49   10022\n",
        "NO           0.35  0.47    8363\n",
        "DE           0.26  0.49    4999\n",
        "MX           0.35  0.49    3638\n",
        "NL           0.30  0.49    3584\n",
        "IN           0.38  0.46    2856\n",
        "NZ           0.27  0.49    2583\n",
        "SE           0.25  0.50    2582\n",
        "BR           0.22  0.51    2549\n",
        "SG           0.42  0.48    2436\n",
        "IE           0.29  0.47    2398\n",
        "FR           0.21  0.49    2291\n",
        "CN           0.32  0.47    2252\n",
        "FI           0.29  0.50    1831\n",
        "PH           0.38  0.48    1800\n",
        "BE           0.29  0.47    1670\n",
        "KR           0.43  0.47    1603\n",
        "PL           0.29  0.50    1367\n",
        "CO           0.36  0.47    1347\n",
        "DK           0.34  0.47    1343\n",
        "ES           0.21  0.50    1318\n",
        "IT           0.33  0.47    1312\n",
        "ZA           0.30  0.49    1232\n",
        "nu           0.36  0.50    1043\n",
        "RU           0.34  0.48    1024\n",
        "AF           0.30  0.51     998\n",
        "HK           0.34  0.50     998\n",
        "MY           0.42  0.47     997\n",
        "IL           0.26  0.50     927\n",
        "GR           0.33  0.46     893\n",
        "RO           0.37  0.49     830\n",
        "TR           0.28  0.48     807\n",
        "AR           0.30  0.49     796\n",
        "JP           0.35  0.48     754\n",
        "PT           0.32  0.49     707\n",
        "TW           0.28  0.51     700\n",
        "AT           0.30  0.49     658\n",
        "CH           0.28  0.49     652\n",
        "JM           0.45  0.53     631\n",
        "HR           0.29  0.50     623\n",
        "HU           0.36  0.46     589\n",
        "VE           0.34  0.49     582\n",
        "ID           0.49  0.48     576\n",
        "PR           0.36  0.53     552\n",
        "VN           0.36  0.50     544\n",
        "UM           0.32  0.49     533\n",
        "BG           0.28  0.49     504\n",
        "PE           0.37  0.46     485\n",
        "NG           0.54  0.45     468\n",
        "TT           0.44  0.50     451\n",
        "DO           0.44  0.49     448\n",
        "PK           0.37  0.49     427\n",
        "LT           0.39  0.48     398\n",
        "UA           0.33  0.51     380\n",
        "TH           0.38  0.45     367\n",
        "              ...   ...     ...\n",
        "\n",
        "[235 rows x 3 columns]\n"
       ]
      }
     ],
     "prompt_number": 109
    },
    {
     "cell_type": "markdown",
     "metadata": {
      "slideshow": {
       "slide_type": "slide"
      }
     },
     "source": [
      "<h1>Example 3</h1>\n",
      "<li class=\"fragment level1\">We want to generate a quick plot to help us visualize our data</li>\n",
      "<li class=\"fragment level1\">E.g., plot the IAT effect by country, but also faceted by participant sex, sexual orientation, and stimulus type</li>\n"
     ]
    },
    {
     "cell_type": "markdown",
     "metadata": {
      "slideshow": {
       "slide_type": "slide"
      }
     },
     "source": [
      "<h1>Plotting in Python with [Seaborn](http://www.stanford.edu/~mwaskom/software/seaborn/)</h1>\n"
     ]
    },
    {
     "cell_type": "code",
     "collapsed": false,
     "input": [
      "import seaborn as sns\n",
      "import matplotlib.pyplot as plt\n",
      "\n",
      "# Select valid rows\n",
      "d = data[data['sex'].isin(['f','m']) & ~np.isnan(data['Stimuli']) & data['sexuality'].isin([1,2])]\n",
      "\n",
      "# Rename sexuality and stimuli levels to be more descriptive\n",
      "d.loc[:,'sexuality'] = d['sexuality'].replace({1.0: 'Heterosexual', 2.0: 'Homosexual'})\n",
      "d.loc[:,'Stimuli'] = d['Stimuli'].replace({1.0: 'GayMen', 2.0: 'Lesbians'})\n",
      "\n",
      "# Keep only countries with > 1,500 subjects\n",
      "d = d.groupby('citizenship').filter(lambda x: x['hour'].count() > 1500)\n",
      "\n",
      "# Order countries by ascending overall IAT effect\n",
      "order = d.groupby('citizenship')['IAT_overall'].mean().order().index\n",
      "\n",
      "# Plot with seaborn\n",
      "sns.factorplot('citizenship', 'IAT_overall', data=d, row='sexuality', col='Stimuli', hue='sex', \n",
      "               join=False, hline=0, size=3, aspect=3, x_order=order, kind='point')"
     ],
     "language": "python",
     "metadata": {
      "slideshow": {
       "slide_type": "fragment"
      }
     },
     "outputs": [
      {
       "metadata": {},
       "output_type": "pyout",
       "prompt_number": 110,
       "text": [
        "<seaborn.axisgrid.FacetGrid at 0x13690eb90>"
       ]
      },
      {
       "metadata": {},
       "output_type": "display_data",
       "png": "[encoded data removed]",
       "text": [
        "<matplotlib.figure.Figure at 0x136bef650>"
       ]
      }
     ],
     "prompt_number": 110
    },
    {
     "cell_type": "markdown",
     "metadata": {
      "slideshow": {
       "slide_type": "slide"
      }
     },
     "source": [
      "<h1>Example 4</h1>\n",
      "<li class=\"fragment level1\">We'd like to package our text, results, figures, and code together in one tidy environment that we can easily share, present, and place under version control.</li>\n",
      "<li class=\"fragment level1\">Hey, suppose you're teaching a short course on Psychoinformatics...</li>\n"
     ]
    },
    {
     "cell_type": "markdown",
     "metadata": {
      "slideshow": {
       "slide_type": "slide"
      }
     },
     "source": [
      "<h1>This thing right here!</h1>\n",
      "<li class=\"fragment level1\">Written in an [IPython notebook](http://ipython.org/notebook.html)</li>\n",
      "<li class=\"fragment level1\">Available [on GitHub](http://github.com/tyarkoni/ssi/notebooks/2_Programming.ipynb)</li>\n",
      "<li class=\"fragment level1\">Viewable in Notebook format online</li>\n",
      "<li class=\"fragment level1\">Can be easily converted into slides</li>\n"
     ]
    },
    {
     "cell_type": "markdown",
     "metadata": {
      "slideshow": {
       "slide_type": "slide"
      }
     },
     "source": [
      "<h1>Should you spend the time?</h1>\n",
      "<li class=\"fragment level1\">Like many things in life: a tradeoff between short-term vs. long-term benefits</li>\n",
      "<li class=\"fragment level1\">It takes some time to learn to program</li>\n",
      "<li class=\"fragment level1\">During that time, you're less productive--and you may get very frustrated</li>\n",
      "<li class=\"fragment level1\">Afterwards, the world is your oyster</li>\n"
     ]
    },
    {
     "cell_type": "markdown",
     "metadata": {
      "slideshow": {
       "slide_type": "slide"
      }
     },
     "source": [
      "<h1>What should you learn?</h1>\n",
      "<li class=\"fragment level1\">There are like a million programming languages out there</li>\n",
      "\t<li class=\"fragment level2\">That's only a slight exaggeration</li>\n",
      "<li class=\"fragment level1\">Many possible ways to classify and organize languages</li>\n",
      "\t<li class=\"fragment level2\">Compiled vs. interpreted, statically vs. dynamically typed, functional vs. object-oriented vs. procedural, etc. etc.</li>\n",
      "<li class=\"fragment level1\">Probably the most salient dimension for scientists: development vs. execution speed</li>\n",
      "\t<li class=\"fragment level2\">Your time versus your machine's time: what's the bottleneck?</li>\n",
      "<li class=\"fragment level1\">So, very crudely, we have: C/C++/Java vs. Python/Ruby/Perl</li>\n",
      "\t<li class=\"fragment level2\">Newer languages (e.g., Julia, Go) may eventually give us the best of both worlds</li>\n",
      "\t<li class=\"fragment level2\">Can also achieve good high-level performance via bridges to other languages</li>\n",
      "\t<li class=\"fragment level2\">E.g., much of numerical analysis in Matlab, Python, R is done in C or FORTRAN</li>\n"
     ]
    },
    {
     "cell_type": "markdown",
     "metadata": {
      "slideshow": {
       "slide_type": "slide"
      }
     },
     "source": [
      "<h1>Hello World</h1>\n",
      "<p class=\"fragment level1\">In Java...</p>\n",
      "<p class=\"fragment\">```public class HelloWorld\n",
      "{\n",
      "    public static void main (String[] args)\n",
      "    {\n",
      "        System.out.println(\"Hello, world!\");\n",
      "    }\n",
      "}```</p><p class=\"fragment level1\">In Python...</p>\n",
      "<p class=\"fragment\">```print(\"Hello, world!\")```</p>"
     ]
    },
    {
     "cell_type": "markdown",
     "metadata": {
      "slideshow": {
       "slide_type": "slide"
      }
     },
     "source": [
      "<h1>Open file for reading</h1>\n",
      "<p class=\"fragment level1\">In Java...</p>\n",
      "<p class=\"fragment\">```import java.io.*;\n",
      "...\n",
      "\n",
      "BufferedReader myFile =\n",
      "    new BufferedReader(\n",
      "        new FileReader(argFilename));```</p><p class=\"fragment level1\">In Python...</p>\n",
      "<p class=\"fragment\">```myFile = open(argFilename)```</p>"
     ]
    },
    {
     "cell_type": "markdown",
     "metadata": {
      "slideshow": {
       "slide_type": "slide"
      }
     },
     "source": [
      "<h1>But simplicity comes at a cost...</h1>\n",
      "![benchmark](images/plb-lang_1.png) <span class='citation'>[attractivechaos.github.io](http://attractivechaos.github.io/plb)</span>"
     ]
    },
    {
     "cell_type": "markdown",
     "metadata": {
      "slideshow": {
       "slide_type": "slide"
      }
     },
     "source": [
      "<h1>So what should you use?</h1>\n",
      "<li class=\"fragment level1\">Depends on what you do</li>\n",
      "<li class=\"fragment level1\">Common use cases for psychologists:</li>\n",
      "\t<li class=\"fragment level2\">Text processing and general purpose scripting</li>\n",
      "\t<li class=\"fragment level2\">Stimulus presentation/data collection</li>\n",
      "\t<li class=\"fragment level2\">Statistical and numerical analysis</li>\n",
      "\t<li class=\"fragment level2\">Visualization</li>\n",
      "\t<li class=\"fragment level2\">Online experiments/web development</li>\n"
     ]
    },
    {
     "cell_type": "markdown",
     "metadata": {
      "slideshow": {
       "slide_type": "slide"
      }
     },
     "source": [
      "<h1>General-purpose scripting</h1>\n",
      "<li class=\"fragment level1\">You want a high-level language that does a lot of different things quickly</li>\n",
      "\t<li class=\"fragment level2\">Code is typically interpreted, not compiled</li>\n",
      "\t<li class=\"fragment level2\">Weak variable typing</li>\n",
      "\t<li class=\"fragment level2\">(Relatively) easy to learn</li>\n",
      "\t<li class=\"fragment level2\">Hides a lot of low-level stuff from programmer</li>\n",
      "<li class=\"fragment level1\">Common languages: Python, Ruby, Perl, etc.</li>\n",
      "<li class=\"fragment level1\">Choose based on ease of use, community, available libraries</li>\n"
     ]
    },
    {
     "cell_type": "markdown",
     "metadata": {
      "slideshow": {
       "slide_type": "slide"
      }
     },
     "source": [
      "<h1>Experimentation frameworks</h1>\n",
      "<li class=\"fragment level1\">Traditionally, psychologists use standalone packages</li>\n",
      "\t<li class=\"fragment level2\">E-Prime, Presentation, etc.</li>\n",
      "<li class=\"fragment level1\">These are easy to use, but not very flexible/powerful</li>\n",
      "\t<li class=\"fragment level2\">Good for simple experiments</li>\n",
      "\t<li class=\"fragment level2\">Force you to do more complicated things in very convoluted ways</li>\n",
      "\t<li class=\"fragment level2\">E.g., E-Basic is an ineffably terrible 'language'</li>\n",
      "<li class=\"fragment level1\">Recent push towards packages based on existing languages</li>\n",
      "\t<li class=\"fragment level2\">E.g., PsychoPy in Python, Psychtoolbox in Matlab</li>\n",
      "\t<li class=\"fragment level2\">Best of both worlds: simplifies typical use cases while providing flexibility of a full-featured language</li>\n",
      "\t<li class=\"fragment level2\">(Potentially) open source, so you can contribute to development</li>\n"
     ]
    },
    {
     "cell_type": "markdown",
     "metadata": {
      "slideshow": {
       "slide_type": "slide"
      }
     },
     "source": [
      "<h1>Statistical/numerical computing and visualization</h1>\n",
      "<li class=\"fragment level1\">Most psychologists work predominantly in:</li>\n",
      "\t<li class=\"fragment level2\">SPSS, R, Matlab/Octave, Python/NumPy, or SAS</li>\n",
      "<li class=\"fragment level1\">SPSS is by far the most common, but is inflexible and has very poor programmatic support</li>\n",
      "<li class=\"fragment level1\">SAS use is decreasing rapidly, but still used for large datasets</li>\n",
      "<li class=\"fragment level1\">Matlab is fast, handles large datasets, and has solid plotting capabilities</li>\n",
      "\t<li class=\"fragment level2\">But it's expensive, the language is clunky, and ecosystem is focused almost exclusively on numerical computing</li>\n",
      "<li class=\"fragment level1\">R is free and has by far the most extensive support for statistical analysis</li>\n",
      "\t<li class=\"fragment level2\">But it has a steep learning curve, clunky syntax, and chokes on large datasets</li>\n",
      "<li class=\"fragment level1\">Python (w/ numpy and pandas) is fast, free, and has by far the largest ecosystem</li>\n",
      "\t<li class=\"fragment level2\">Lacks analogs to many statistical packages implemented in R</li>\n"
     ]
    },
    {
     "cell_type": "markdown",
     "metadata": {
      "slideshow": {
       "slide_type": "slide"
      }
     },
     "source": [
      "<h1>Web and mobile development</h1>\n",
      "<li class=\"fragment level1\">Online/mobile data collection is a sensible thing to do</li>\n",
      "\t<li class=\"fragment level2\">For simple surveys, you can use tools like SurveyMonkey, Qualtrics, etc.</li>\n",
      "\t<li class=\"fragment level2\">More complex studies require some web or mobile app development</li>\n",
      "<li class=\"fragment level1\">Server-side versus client-side programming</li>\n",
      "\t<li class=\"fragment level2\">On the server, you can use whatever you want (Python, Java, etc.) to generate content</li>\n",
      "\t<li class=\"fragment level2\">In the browser, you're stuck with JavaScript (for now)</li>\n",
      "\t<li class=\"fragment level2\">In native mobile apps, you're tied to Java (Android) or Objective-C (Apple)</li>\n",
      "<li class=\"fragment level1\">Web development ecoystem moves unbelievably quickly</li>\n",
      "\t<li class=\"fragment level2\">Alternative syntaxes (e.g., CoffeeScript) make JavaScript more pleasant</li>\n",
      "\t<li class=\"fragment level2\">Frameworks like jQuery do much of the work for you</li>\n",
      "\t<li class=\"fragment level2\">Staying current is almost a full-time job</li>\n"
     ]
    },
    {
     "cell_type": "markdown",
     "metadata": {
      "slideshow": {
       "slide_type": "slide"
      }
     },
     "source": [
      "<h1>So, what should you use?</h1>\n",
      "<li class=\"fragment level1\">Again, depends on what you do</li>\n",
      "<li class=\"fragment level1\">In an ideal world, you'd use the best tool for each job</li>\n",
      "<li class=\"fragment level1\">In the real world, nobody has time for that!</li>\n",
      "<li class=\"fragment level1\">If you only do one kind of thing, pick the best tool, e.g.,</li>\n",
      "\t<li class=\"fragment level2\">e.g., R for comprehensive statistical analysis</li>\n",
      "\t<li class=\"fragment level2\">C/C++ if performance is your sole consideration</li>\n",
      "\t<li class=\"fragment level2\">For the web, JavaScript is unavoidable</li>\n",
      "<li class=\"fragment level1\">If you want to do (almost) everything in one environment, Python wins by a landslide</li>\n",
      "<li class=\"fragment level1\">Arguably the dominant general-purpose language in scientific computing at the moment</li>\n",
      "\t<li class=\"fragment level2\">Popularity varies by field: R in bioinformatics, Matlab in neuroimaging, etc.</li>\n",
      "<li class=\"fragment level1\">Marginal cost of learning a new language decreases with experience</li>\n"
     ]
    },
    {
     "cell_type": "markdown",
     "metadata": {
      "slideshow": {
       "slide_type": "slide"
      }
     },
     "source": [
      "<h1>The scientist as a software developer</h1>\n",
      "<li class=\"fragment level1\">Scientists:</li>\n",
      "\t<li class=\"fragment level2\">Usually work alone on single-purpose analysis scripts</li>\n",
      "\t<li class=\"fragment level2\">Just want the damn thing to work NOW</li>\n",
      "\t<li class=\"fragment level2\">Don't care about code reuse or clarity</li>\n",
      "\t<li class=\"fragment level2\">Comments? What are comments?</li>\n",
      "<li class=\"fragment level1\">Professional developers:</li>\n",
      "\t<li class=\"fragment level2\">Often work in teams on large projects</li>\n",
      "\t<li class=\"fragment level2\">Need to write clear, manageable code</li>\n",
      "\t<li class=\"fragment level2\">Expect much/most code to be re-used at some point</li>\n",
      "\t<li class=\"fragment level2\">Place a premium on documentation and testing</li>\n"
     ]
    },
    {
     "cell_type": "markdown",
     "metadata": {
      "slideshow": {
       "slide_type": "slide"
      }
     },
     "source": [
      "<h1>Think like a developer!</h1>\n",
      "<a href=\"http://xkcd.com/844/\" style=\"float: right;\"><img src=\"images/xkcd_1.jpg\"></a><li class=\"fragment level1\">Developers emphasize a lot of practices that seem onerous</li>\n",
      "\t<li class=\"fragment level2\">Complex development tools</li>\n",
      "\t<li class=\"fragment level2\">Comprehensive documentation and commenting</li>\n",
      "\t<li class=\"fragment level2\">Modularity/code re-use</li>\n",
      "\t<li class=\"fragment level2\">Automated testing</li>\n",
      "\t<li class=\"fragment level2\">Version control</li>\n",
      "<li class=\"fragment level1\">These may seem unnecessary for scientific software, but...</li>\n",
      "\t<li class=\"fragment level2\">\"Never again!\" turns into \"where did I put that...\" surprisingly often</li>\n",
      "\t<li class=\"fragment level2\">Small projects tend to mushroom</li>\n",
      "\t<li class=\"fragment level2\">You don't realize how much easier your life could be</li>\n",
      "\t<li class=\"fragment level2\">Not that onerous once it becomes habit</li>\n"
     ]
    },
    {
     "cell_type": "markdown",
     "metadata": {
      "slideshow": {
       "slide_type": "slide"
      }
     },
     "source": [
      "<h1>Development tools</h1>\n",
      "<li class=\"fragment level1\">A good IDE (integrated development environment) can boost productivity considerably</li>\n",
      "\t<li class=\"fragment level2\">Manages your code, completes variable/method names, etc.</li>\n",
      "\t<li class=\"fragment level2\">Eclipse, NetBeans, Xcode, Visual Studio, etc.</li>\n",
      "<li class=\"fragment level1\">For small scientific projects, a full-blown IDE may be overkill</li>\n",
      "<li class=\"fragment level1\">Lightweight text editors can do the job</li>\n",
      "\t<li class=\"fragment level2\">Offer the key features (syntax highlighting, in-line execution, etc.) without overhead or learning curve</li>\n",
      "\t<li class=\"fragment level2\">Sublime Text, TextMate, Notepad++, emacs, vi, etc.</li>\n",
      "<li class=\"fragment level1\">The [IPython Notebook](http://ipython.org/notebook.html) provides an excellent development/testing/interactive environment</li>\n",
      "\t<li class=\"fragment level2\">Not just for Python!</li>\n",
      "\t<li class=\"fragment level2\">IPython has support for many other languages</li>\n"
     ]
    },
    {
     "cell_type": "markdown",
     "metadata": {
      "slideshow": {
       "slide_type": "slide"
      }
     },
     "source": [
      "<h1>Calling R from IPython</h1>\n"
     ]
    },
    {
     "cell_type": "code",
     "collapsed": false,
     "input": [
      "# Load the R magic\n",
      "%load_ext rmagic\n",
      "\n",
      "# Create data in Python\n",
      "import numpy as np\n",
      "X = np.random.normal(size=(100,3))\n",
      "y = np.random.normal(size=100)\n",
      "\n",
      "# Pass the data to R\n",
      "%R -i X,y\n",
      "\n",
      "# Fit and summarize a linear model... look familiar?\n",
      "%R res = lm(y ~ X)\n",
      "%R print(summary(res))"
     ],
     "language": "python",
     "metadata": {
      "slideshow": {
       "slide_type": "fragment"
      }
     },
     "outputs": [
      {
       "output_type": "stream",
       "stream": "stdout",
       "text": [
        "The rmagic extension is already loaded. To reload it, use:\n",
        "  %reload_ext rmagic\n"
       ]
      },
      {
       "metadata": {},
       "output_type": "display_data",
       "text": [
        "\n",
        "Call:\n",
        "lm(formula = y ~ X)\n",
        "\n",
        "Residuals:\n",
        "    Min      1Q  Median      3Q     Max \n",
        "-2.7261 -0.7291  0.1289  0.6862  2.7662 \n",
        "\n",
        "Coefficients:\n",
        "             Estimate Std. Error t value Pr(>|t|)\n",
        "(Intercept) -0.004587   0.106974  -0.043    0.966\n",
        "X1           0.029536   0.113321   0.261    0.795\n",
        "X2          -0.076807   0.116220  -0.661    0.510\n",
        "X3           0.041979   0.104171   0.403    0.688\n",
        "\n",
        "Residual standard error: 1.062 on 96 degrees of freedom\n",
        "Multiple R-squared:  0.007185,\tAdjusted R-squared:  -0.02384 \n",
        "F-statistic: 0.2316 on 3 and 96 DF,  p-value: 0.8742\n",
        "\n"
       ]
      }
     ],
     "prompt_number": 111
    },
    {
     "cell_type": "markdown",
     "metadata": {
      "slideshow": {
       "slide_type": "slide"
      }
     },
     "source": [
      "<h1>Document your code</h1>\n",
      "<li class=\"fragment level1\">Comment *everything*</li>\n",
      "\t<li class=\"fragment level2\">Would I understand this code if I came back a year later?</li>\n",
      "\t<li class=\"fragment level2\">Would anyone else understand it right now?</li>\n",
      "\t<li class=\"fragment level2\">Tell the user why the code is doing what it's doing</li>\n",
      "<li class=\"fragment level1\">There are no [good reasons](http://bit.ly/puLWht) not to comment</li>\n",
      "<li class=\"fragment level1\">If you want people to use your tools:</li>\n",
      "\t<li class=\"fragment level2\">Make them as easy as possible to use</li>\n",
      "\t<li class=\"fragment level2\">Write good documentation--especially tutorials</li>\n",
      "<li class=\"fragment level1\">If no one else uses your code, comment it anyway</li>\n",
      "\t<li class=\"fragment level2\">Will save you time later</li>\n",
      "<li class=\"fragment level1\">If you're not doing things programmatically, you should still document your work</li>\n"
     ]
    },
    {
     "cell_type": "markdown",
     "metadata": {
      "slideshow": {
       "slide_type": "slide"
      }
     },
     "source": [
      "<h1>Modularize and abstract</h1>\n",
      "<li class=\"fragment level1\"><u>D</u>on't <u>R</u>epeat <u>Y</u>ourself</li>\n",
      "\t<li class=\"fragment level2\">Good programming is lazy programming</li>\n",
      "\t<li class=\"fragment level2\">If you find yourself writing the same code repeatedly, abstract it</li>\n",
      "\t<li class=\"fragment level2\">Encapsulate the functionality in a method or class</li>\n",
      "<li class=\"fragment level1\">Write modular, generalizable code</li>\n",
      "\t<li class=\"fragment level2\">Planning to write code to parse E-Prime log files?</li>\n",
      "\t<li class=\"fragment level2\">Why not make it parse log files in general, and make E-Prime a special case?</li>\n",
      "<li class=\"fragment level1\">Abstraction makes life better. For example:</li>\n",
      "\t<li class=\"fragment level2\">All those **import** statements in Python let you do more in less code</li>\n",
      "\t<li class=\"fragment level2\">[CoffeeScript](http://coffeescript.org) compiles down to much more verbose JavaScript</li>\n",
      "\t<li class=\"fragment level2\">The E-Studio GUI is just a tool for generating (hideous) E-Basic code</li>\n",
      "\t<li class=\"fragment level2\">Python/Numpy/Matlab rely heavily on C bindings, but you never see them</li>\n"
     ]
    },
    {
     "cell_type": "markdown",
     "metadata": {
      "slideshow": {
       "slide_type": "slide"
      }
     },
     "source": [
      "<h1>Version control</h1>\n",
      "<li class=\"fragment level1\">Systematic tracking of changes to your code (or data, analysis, papers, whatever)</li>\n",
      "<li class=\"fragment level1\">Most common model is to check code in/out of a centralized repository</li>\n",
      "<p class=\"fragment level1\"><a href=\"http://homes.cs.washington.edu/~mernst/advice/version-control.html\"><img src=\"images/version-control-1.png\"></a></p>\n",
      "<p class=\"fragment level1\"><a href=\"http://homes.cs.washington.edu/~mernst/advice/version-control.html\"><img src=\"images/version-control-2.png\" class=\"float-right\"></a></p>\n",
      "<li class=\"fragment level1\">Many platforms</li>\n",
      "\t<li class=\"fragment level2\">git, Mercurial, SVN, etc.</li>\n",
      "\t<li class=\"fragment level2\">All have similar basic functionality: create repos, check out code, check in code, merge branches, etc.</li>\n",
      "<li class=\"fragment level1\">Openly hosted version control platforms ([GitHub](http://github.com), [Bitbucket](http://bitbucket.org), etc.)</li>\n",
      "\t<li class=\"fragment level2\">Increasingly popular way to both manage software and encourage collaboration and adoption</li>\n",
      "<li class=\"fragment level1\">GitHub is by far the most popular platform</li>\n",
      "\t<li class=\"fragment level2\">Just added new [features for scientists](https://github.com/blog/1840-improving-github-for-science), including doi assignment</li>\n",
      "<li class=\"fragment level1\">[Further reading](http://homes.cs.washington.edu/~mernst/advice/version-control.html)</li>\n"
     ]
    },
    {
     "cell_type": "markdown",
     "metadata": {
      "slideshow": {
       "slide_type": "slide"
      }
     },
     "source": [
      "<h1>Why use version control?</h1>\n",
      "<li class=\"fragment level1\">You're collaborating on a project with other people</li>\n",
      "<li class=\"fragment level1\">You occasionally make mistakes and need to roll back</li>\n",
      "<li class=\"fragment level1\">You sometimes need to simultaneously have different versions of the same project</li>\n",
      "<li class=\"fragment level1\">You have a hard time remembering where you put things</li>\n",
      "<li class=\"fragment level1\">You want to have an easy way to annotate all aspects of your project</li>\n",
      "<li class=\"fragment level1\">You like to be able to chart your progress</li>\n",
      "<li class=\"fragment level1\">You want other people to use your stuff</li>\n",
      "<li class=\"fragment level1\">You don't want to deal with people bugging you for data/code</li>\n",
      "<li class=\"fragment level1\">...and many other reasons</li>\n"
     ]
    },
    {
     "cell_type": "markdown",
     "metadata": {
      "slideshow": {
       "slide_type": "slide"
      }
     },
     "source": [
      "<h1>Testing</h1>\n",
      "<li class=\"fragment level1\">How do you know if your code works?</li>\n",
      "\t<li class=\"fragment level2\">You don't</li>\n",
      "\t<li class=\"fragment level2\">Unless you test it</li>\n",
      "<li class=\"fragment level1\">New features tend to break old features</li>\n",
      "<li class=\"fragment level1\">Automate everything!</li>\n",
      "\t<li class=\"fragment level2\">A comprehensive set of tests allows you to find bugs before they affect anyone</li>\n",
      "<li class=\"fragment level1\">Many developers swear by [test-driven development](http://en.wikipedia.org/wiki/Test-driven_development)</li>\n",
      "\t<li class=\"fragment level2\">Write tests first, then write code to pass tests</li>\n",
      "<li class=\"fragment level1\">Writing tests takes a lot of time</li>\n",
      "\t<li class=\"fragment level2\">But debugging code blindly takes much *more* time</li>\n",
      "\t<li class=\"fragment level2\">You're going to test anyway; may as well do it without the frustration</li>\n",
      "<li class=\"fragment level1\">There are a few exceptions...</li>\n"
     ]
    },
    {
     "cell_type": "markdown",
     "metadata": {
      "slideshow": {
       "slide_type": "slide"
      }
     },
     "source": [
      "<h1>Google more, write less</h1>\n",
      "<li class=\"fragment level1\">Most of the problems you'll run into have already been raised and solved by other people</li>\n",
      "<li class=\"fragment level1\">Use other people's solutions when you see them</li>\n",
      "<li class=\"fragment level1\">Google everything!</li>\n",
      "\t<li class=\"fragment level2\">I googled half of the things in these slides</li>\n",
      "<li class=\"fragment level1\">Much of the trick to learning this stuff is knowing enough to be able to generate the right Google or [Stack Overflow](http://stackoverflow.com) queries</li>\n"
     ]
    }
   ],
   "metadata": {}
  }
 ]
}