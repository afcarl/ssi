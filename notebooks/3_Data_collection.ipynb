{
 "metadata": {},
 "nbformat": 3,
 "nbformat_minor": 0,
 "worksheets": [
  {
   "cells": [
    {
     "cell_type": "markdown",
     "metadata": {
      "slideshow": {
       "slide_type": "slide"
      }
     },
     "source": [
      "<h1><h1>Data acquisition</h1></h1>\n"
     ]
    },
    {
     "cell_type": "markdown",
     "metadata": {
      "slideshow": {
       "slide_type": "slide"
      }
     },
     "source": [
      "<h1>What we'll cover</h1>\n",
      "<li class=\"fragment level1\">Programmatic experiment design in Python and PsychoPy</li>\n",
      "<li class=\"fragment level1\">Web-based data collection</li>\n",
      "<li class=\"fragment level1\">Experience sampling and mobile data collection</li>\n",
      "<li class=\"fragment level1\">Harnessing existing data</li>\n"
     ]
    },
    {
     "cell_type": "markdown",
     "metadata": {
      "slideshow": {
       "slide_type": "slide"
      }
     },
     "source": [
      "<h1>Programmatic experiment design</h1>\n",
      "<li class=\"fragment level1\">GUI-based packages like E-Prime are easy to use but limited</li>\n",
      "<li class=\"fragment level1\">Web-based survey packages like SurveyMonkey and Qualtrics don't work for other kinds of tasks</li>\n",
      "<li class=\"fragment level1\">PsychoPy</li>\n",
      "\t<li class=\"fragment level2\">\"A free, open-source application for presentation of stimuli and collection of data for a wide range of neuroscience, psychology, and psychophysiology experiments.\" ([psychopy.org](http://psychopy.org))</li>\n",
      "\t<li class=\"fragment level2\">Built on Python</li>\n",
      "\t<li class=\"fragment level2\">Adds functionality for drawing stimuli, presenting images/movies/sounds, logging responses, etc.</li>\n",
      "<li class=\"fragment level1\">Let's take a closer look...</li>\n"
     ]
    },
    {
     "cell_type": "markdown",
     "metadata": {
      "slideshow": {
       "slide_type": "slide"
      }
     },
     "source": [
      "<h1>Why collect data on the web?</h1>\n",
      "<li class=\"fragment level1\">It's big</li>\n",
      "<li class=\"fragment level1\">It's cheap</li>\n",
      "<li class=\"fragment level1\">It's fast</li>\n"
     ]
    },
    {
     "cell_type": "markdown",
     "metadata": {
      "slideshow": {
       "slide_type": "slide"
      }
     },
     "source": [
      "<h1>How does it compare?</h1>\n",
      "<li class=\"fragment level1\">Historically, researchers had strong intuitions against web-based data collection:</li>\n",
      "\t<li class=\"fragment level2\">Are samples demographically diverse?</li>\n",
      "\t<li class=\"fragment level2\">Are internet users somehow maladjusted?</li>\n",
      "\t<li class=\"fragment level2\">Is it possible to motivate internet participants the same way?</li>\n",
      "\t<li class=\"fragment level2\">Is anonymity a problem?</li>\n",
      "\t<li class=\"fragment level2\">Do findings differ from offline studies?</li>\n",
      "\t<li class=\"fragment level2\">How can one achieve comparable levels of experimental control?</li>\n",
      "<li class=\"fragment level1\">By and large, studies demonstrate that these aren't really problems (e.g., [Gosling et al, 2004](http://www.simine.com/docs/Gosling_et_al_AP_2004.pdf))</li>\n",
      "\t<li class=\"fragment level2\">Could make a reasonable argument internet-based samples are often superior</li>\n",
      "\t<li class=\"fragment level2\">Of course, there are some exceptions</li>\n"
     ]
    },
    {
     "cell_type": "markdown",
     "metadata": {
      "slideshow": {
       "slide_type": "slide"
      }
     },
     "source": [
      "<h1>The client-server architecture</h1>\n",
      "<img src=\"images/client_server.jpg\" style=\"float: right;\"><li class=\"fragment level1\">Allows one server to provide services to many clients on different devices</li>\n",
      "<li class=\"fragment level1\">Development must account for both of these</li>\n",
      "<li class=\"fragment level1\">Server-side: code that handles incoming requests and returns data</li>\n",
      "<li class=\"fragment level1\">Client-side code that accepts data from server, displays it to user, and sends back new requests</li>\n"
     ]
    },
    {
     "cell_type": "markdown",
     "metadata": {
      "slideshow": {
       "slide_type": "slide"
      }
     },
     "source": [
      "<h1>Client-side programming</h1>\n",
      "<li class=\"fragment level1\">The set of technologies you can use is constrained by:</li>\n",
      "\t<li class=\"fragment level2\">Web standards</li>\n",
      "\t<li class=\"fragment level2\">Browser support</li>\n",
      "\t<li class=\"fragment level2\">What users are willing to install in their browser</li>\n",
      "<li class=\"fragment level1\">In practice, the community has now more or less reached steady state</li>\n",
      "\t<li class=\"fragment level2\">HTML for basic markup</li>\n",
      "\t<li class=\"fragment level2\">CSS for styling</li>\n",
      "\t<li class=\"fragment level2\">JavaScript for anything dynamic</li>\n"
     ]
    },
    {
     "cell_type": "markdown",
     "metadata": {
      "slideshow": {
       "slide_type": "slide"
      }
     },
     "source": [
      "<h1>JavaScript</h1>\n",
      "<li class=\"fragment level1\">A dynamic programming language supported by all modern browsers</li>\n",
      "<li class=\"fragment level1\">Facilitates dynamic manipulation of the client-side environment</li>\n",
      "<li class=\"fragment level1\">E.g., respond to user actions, load additional data in the background, move document elements across screen, etc.</li>\n",
      "<li class=\"fragment level1\">Syntax is widely disliked, and has some semantic quirks</li>\n",
      "<li class=\"fragment level1\">But there are many JS-based frameworks and alternative syntaxes</li>\n",
      "\t<li class=\"fragment level2\">[jQuery](http://jquery.org): the most popular JS framework; makes JS scripting much easier</li>\n",
      "\t<li class=\"fragment level2\">[CoffeeScript](http://coffeescript.org): a language that provides an alternative syntax, compiles down to JS</li>\n",
      "\t<li class=\"fragment level2\">Angular.js, Backbone.js, Knockout.js, etc.: comprehensive frameworks</li>\n",
      "<li class=\"fragment level1\">In practice, web development is an increasingly Python/Ruby-like experience</li>\n",
      "<li class=\"fragment level1\">In some ways nicer--e.g., GUI development</li>\n"
     ]
    },
    {
     "cell_type": "markdown",
     "metadata": {
      "slideshow": {
       "slide_type": "slide"
      }
     },
     "source": [
      "<h1>Server-side/back-end development</h1>\n",
      "<li class=\"fragment level1\">The data from your experiment or application needs to go somewhere</li>\n",
      "<li class=\"fragment level1\">Gets sent to the server via GET or POST requests initiated by the client</li>\n",
      "<li class=\"fragment level1\">E.g.:</li>\n",
      "\t<li class=\"fragment level2\">http://server.com/experiments/3/surveys/45</li>\n",
      "\t<li class=\"fragment level2\">http://server.com/probe/?trial1_rt=453&trial2_rt=684&trial3_rt=1153...</li>\n",
      "<li class=\"fragment level1\">A server might interpret these to mean:</li>\n",
      "\t<li class=\"fragment level2\">\"The client wants to see Survey #45 from Experiment #3\"</li>\n",
      "\t<li class=\"fragment level2\">\"The client's sending me a series of RT values for the probe task\"</li>\n",
      "<li class=\"fragment level1\">The server does some stuff, then sends back some more data</li>\n"
     ]
    },
    {
     "cell_type": "markdown",
     "metadata": {
      "slideshow": {
       "slide_type": "slide"
      }
     },
     "source": [
      "<h1>Server-side/back-end development</h1>\n",
      "<li class=\"fragment level1\">Many languages/frameworks used for server-side scripting</li>\n",
      "\t<li class=\"fragment level2\">PHP, Python, Ruby, ASP.NET, Java, etc.</li>\n",
      "\t<li class=\"fragment level2\">You can use literally any language you like--it just has to obey the specs</li>\n",
      "<li class=\"fragment level1\">PHP is by far the most popular (~70% of websites), though widely derided</li>\n",
      "<li class=\"fragment level1\">Web frameworks for Ruby and Python have a steeper learning curve, but are typically more extensible/elegant/scalable</li>\n"
     ]
    },
    {
     "cell_type": "markdown",
     "metadata": {
      "slideshow": {
       "slide_type": "slide"
      }
     },
     "source": [
      "<h1>Putting it together...</h1>\n",
      "<li class=\"fragment level1\">A small example app in Python/Flask</li>\n",
      "<li class=\"fragment level1\">Grabs random images from Flickr and presents them to the user for tagging</li>\n"
     ]
    },
    {
     "cell_type": "markdown",
     "metadata": {
      "slideshow": {
       "slide_type": "slide"
      }
     },
     "source": [
      "<h1>Amazon Mechanical Turk</h1>\n",
      "<li class=\"fragment level1\">If you pay them (very small amounts of money), they will come</li>\n",
      "<li class=\"fragment level1\">A marketplace for Human Intelligence Tasks (HITs)</li>\n",
      "<li class=\"fragment level1\">Requesters:</li>\n",
      "\t<li class=\"fragment level2\">Create and list new jobs for very little money ($1 - $2 / hour)</li>\n",
      "\t<li class=\"fragment level2\">Only pay for satisfactory performance</li>\n",
      "\t<li class=\"fragment level2\">Can filter workers by criteria (approval rate, geographic location, etc.)</li>\n",
      "<li class=\"fragment level1\">Workers:</li>\n",
      "\t<li class=\"fragment level2\">Read description of jobs and sign up to complete them within specified period</li>\n",
      "\t<li class=\"fragment level2\">Cannot back out of job without being penalized</li>\n",
      "\t<li class=\"fragment level2\">Aren't making very much money</li>\n",
      "\t<li class=\"fragment level2\">Have no real recourse to complain about their (mis)treatment</li>\n",
      "<li class=\"fragment level1\">Why on earth does this model work?</li>\n",
      "\t<li class=\"fragment level2\">Because workers aren't doing it for money (Buhrmester et al. 2011)</li>\n"
     ]
    },
    {
     "cell_type": "markdown",
     "metadata": {
      "slideshow": {
       "slide_type": "slide"
      }
     },
     "source": [
      "<h1>Workers' motives</h1>\n",
      "![worker motives](images/buhrmester_1.png) <span class='citation'>[Buhrmester, Kwang, & Gosling, 2011](http://personal.stevens.edu/~ysakamot/creativity/turk%20perspectives.pdf)</span>"
     ]
    },
    {
     "cell_type": "markdown",
     "metadata": {
      "slideshow": {
       "slide_type": "slide"
      }
     },
     "source": [
      "<h1>Money matters, but mainly for signup rate</h1>\n",
      "<p class=\"fragment level1\">![participation rate](images/buhrmester_2.png) </p>\n",
      "<p class=\"fragment level1\">![reliability](images/buhrmester_1.png)</p>\n"
     ]
    },
    {
     "cell_type": "markdown",
     "metadata": {
      "slideshow": {
       "slide_type": "slide"
      }
     },
     "source": [
      "<h1>Using MTurk</h1>\n",
      "<li class=\"fragment level1\">Mechanical Turk is very flexible: can be used manually or fully automated</li>\n",
      "<li class=\"fragment level1\">Provides basic interface for designing/managing surveys/tasks</li>\n",
      "<li class=\"fragment level1\">Alternatively, you can use MTurk purely for recruitment/payment</li>\n",
      "\t<li class=\"fragment level2\">Direct participants to own website</li>\n",
      "\t<li class=\"fragment level2\">Give them a code when they're done</li>\n",
      "<li class=\"fragment level1\">Behind the scenes, Amazon provides a powerful API</li>\n",
      "\t<li class=\"fragment level2\">Can perform almost all operations programmatically</li>\n",
      "<li class=\"fragment level1\">With some work, you can build a fully automated data collection environment</li>\n",
      "\t<li class=\"fragment level2\">Or... use [PsiTurk](http://psiturk.org)!</li>\n"
     ]
    },
    {
     "cell_type": "markdown",
     "metadata": {
      "slideshow": {
       "slide_type": "slide"
      }
     },
     "source": [
      "<h1>Interim conclusions</h1>\n",
      "<li class=\"fragment level1\">Web-based data collection is a sensible thing to do</li>\n",
      "<li class=\"fragment level1\">Data quality is comparable to lab-based data in most domains</li>\n",
      "<li class=\"fragment level1\">But much cheaper, more efficient, and more scalable</li>\n",
      "<li class=\"fragment level1\">In some cases, it may be easier to build an experiment for the web</li>\n",
      "<li class=\"fragment level1\">If you can do it on the web, you should do it on the web</li>\n"
     ]
    },
    {
     "cell_type": "markdown",
     "metadata": {
      "slideshow": {
       "slide_type": "slide"
      }
     },
     "source": [
      "<h1>Mobile data collection</h1>\n"
     ]
    },
    {
     "cell_type": "markdown",
     "metadata": {
      "slideshow": {
       "slide_type": "slide"
      }
     },
     "source": [
      "<h1>Limitations of lab-based sampling</h1>\n",
      "<li class=\"fragment level1\">Most self-report procedures in psychology are retrospective</li>\n",
      "\t<li class=\"fragment level2\">What was the strongest emotion you felt last week?</li>\n",
      "\t<li class=\"fragment level2\">How often do you pass out at parties?</li>\n",
      "<li class=\"fragment level1\">Most data acquisition procedures provide only a momentary snapshot</li>\n",
      "\t<li class=\"fragment level2\">Susceptible to state effects (mood, fatigue, major events, etc.)</li>\n",
      "\t<li class=\"fragment level2\">Low reliability</li>\n",
      "<li class=\"fragment level1\">Most investigations in psychology are nomothetic</li>\n",
      "\t<li class=\"fragment level2\">Focus on characterizing behavior across individuals</li>\n",
      "\t<li class=\"fragment level2\">Less focus on within-person dynamics</li>\n",
      "\t<li class=\"fragment level2\">E.g., is the structure of affect within people the same as across people?</li>\n"
     ]
    },
    {
     "cell_type": "markdown",
     "metadata": {
      "slideshow": {
       "slide_type": "slide"
      }
     },
     "source": [
      "<h1>Experience sampling</h1>\n",
      "<li class=\"fragment level1\">...the repeated sampling of experience</li>\n",
      "<li class=\"fragment level1\">Benefits:</li>\n",
      "\t<li class=\"fragment level2\">Not contaminated by many biases that affect retrospective reports</li>\n",
      "\t<li class=\"fragment level2\">Greater ecological validity</li>\n",
      "\t<li class=\"fragment level2\">Supports idiographic analyses</li>\n",
      "\t<li class=\"fragment level2\">More data</li>\n",
      "<li class=\"fragment level1\">At a cost:</li>\n",
      "\t<li class=\"fragment level2\">(Potential) loss of experimental control</li>\n"
     ]
    },
    {
     "cell_type": "markdown",
     "metadata": {
      "slideshow": {
       "slide_type": "slide"
      }
     },
     "source": [
      "<h1>A very brief history of ESM</h1>\n",
      "<li class=\"fragment level1\">Introduced in the 70s by Csikszentmihalyi, Larson, and colleagues</li>\n",
      "<li class=\"fragment level1\">Participants filled out a survey at specific times of day, or when paged</li>\n",
      "<li class=\"fragment level1\">Good reliability, validity, compliance rate</li>\n",
      "<li class=\"fragment level1\">Much of what we know about structure of emotion comes from ESM studies</li>\n",
      "<li class=\"fragment level1\">E.g, how do different emotions covary over time? ([Zelenski & Larsen, 2000](http://www.sciencedirect.com/science/article/pii/S0092656699922754))</li>\n",
      "\t<li class=\"fragment level2\">Depends: between or within individuals?</li>\n",
      "\t<li class=\"fragment level2\">We know little about within-person dynamics</li>\n",
      "<li class=\"fragment level1\">A number of major limitations: intrusiveness, compliance, expense, etc.</li>\n"
     ]
    },
    {
     "cell_type": "markdown",
     "metadata": {
      "slideshow": {
       "slide_type": "slide"
      }
     },
     "source": [
      "<h1>The Electronically Activated Ear (EAR)</h1>\n",
      "<p class=\"fragment level1\"><img src=\"images/ear.jpg\" class='float-right'></p>\n",
      "<li class=\"fragment level1\">Developed by Matthias Mehl and colleagues at UT-Austin in the late 90s</li>\n",
      "<li class=\"fragment level1\">Recorded ~30 seconds of audio about every 12 minutes</li>\n",
      "<li class=\"fragment level1\">Participants wear the EAR for a few days</li>\n",
      "<li class=\"fragment level1\">Unobtrusively captures a full range of human behavior</li>\n",
      "<li class=\"fragment level1\">Participants don't seem to mind at all</li>\n"
     ]
    },
    {
     "cell_type": "markdown",
     "metadata": {
      "slideshow": {
       "slide_type": "slide"
      }
     },
     "source": [
      "<h1>What the EAR reveals...</h1>\n",
      "<p class=\"fragment level1\"><img src=\"images/ear_results_1.jpg\" class='float-right'></p>\n",
      "<li class=\"fragment level1\">Can characterize behavior with unprecedented precision</li>\n",
      "<li class=\"fragment level1\">Not dependent on self-report at all</li>\n",
      "<li class=\"fragment level1\">E.g., Mehl & Pennebaker (2003) found that undergraduates only spend 5% of their time \"working\"</li>\n"
     ]
    },
    {
     "cell_type": "markdown",
     "metadata": {
      "slideshow": {
       "slide_type": "slide"
      }
     },
     "source": [
      "<h1>Stability of results</h1>\n",
      "<p class=\"fragment level1\"><img src=\"images/ear_results_2.jpg\"></p>\n"
     ]
    },
    {
     "cell_type": "markdown",
     "metadata": {
      "slideshow": {
       "slide_type": "slide"
      }
     },
     "source": [
      "<h1>Smartphone psychology</h1>\n",
      "<a href=\"http://ciit-atd.edu.pk/admin/NewsFiles/13033035886106903205560598.pdf\"><img src=\"images/lane_2010.jpg\" class=\"float-right\" style=\"width:60%\"></a><li class=\"fragment level1\">...or maybe InternetOfThingsPsychology?</li>\n",
      "<li class=\"fragment level1\">Mobile technology allows us to richly sample behavior and experience in an ecologically valid and unobtrusive way, at negligible marginal cost, using devices that people all over the world already have access to ([Miller, 2010](http://psych.unm.edu/people/directory-profiles/miller-papers/2012%20smartphone%20psychology%20manifesto.pdf))</li>\n"
     ]
    },
    {
     "cell_type": "markdown",
     "metadata": {
      "slideshow": {
       "slide_type": "slide"
      }
     },
     "source": [
      "<h1>How?</h1>\n",
      "<li class=\"fragment level1\">Main approaches:</li>\n",
      "\t<li class=\"fragment level2\">Thin mobile client wrapped around a website</li>\n",
      "\t<li class=\"fragment level2\">Native mobile app (e.g., iOS or Android)</li>\n",
      "\t<li class=\"fragment level2\">Adapt a general-purpose framework (e.g., [Funf](http://www.funf.org/))</li>\n",
      "\t<li class=\"fragment level2\">Pay someone else to do it</li>\n",
      "<li class=\"fragment level1\">Platform choice:</li>\n",
      "\t<li class=\"fragment level2\">Android vs. iOS vs. Windows Mobile</li>\n",
      "\t<li class=\"fragment level2\">Java vs. Objective-C vs. C#</li>\n",
      "\t<li class=\"fragment level2\">All have robust, full-featured SDKs</li>\n",
      "<li class=\"fragment level1\">Bottom line: either learn to code, or spend some money</li>\n"
     ]
    },
    {
     "cell_type": "markdown",
     "metadata": {
      "slideshow": {
       "slide_type": "slide"
      }
     },
     "source": [
      "<h1>Psychology experiments at world scale</h1>\n",
      "![](images/dufau.jpg)<span class='citation'>[Dufau et al, 2011](http://www.plosone.org/article/info%3Adoi%2F10.1371%2Fjournal.pone.0024974)</span>"
     ]
    },
    {
     "cell_type": "markdown",
     "metadata": {
      "slideshow": {
       "slide_type": "slide"
      }
     },
     "source": [
      "<h1>Unhappy mind-wanderers</h1>\n",
      "<p class=\"fragment level1\"><img src=\"images/mindwandering.jpg\" class=\"float-right\"><span class='citation'><a href=\"http://www.wjh.harvard.edu/~dtg/KILLINGSWORTH%20&%20GILBERT%20(2010).pdf\">Killingsworth & Gilbert (2010)</a></span></p>\n",
      "<li class=\"fragment level1\">Killingsworth & Gilbert (2010): 250k responses from 5k participants</li>\n",
      "\t<li class=\"fragment level2\">What are you doing right now?</li>\n",
      "\t<li class=\"fragment level2\">How are you feeling right now?</li>\n",
      "\t<li class=\"fragment level2\">Are you thinking about something other than what you're currently doing?</li>\n",
      "<li class=\"fragment level1\">Results:</li>\n",
      "\t<li class=\"fragment level2\">People spend a lot of time mind-wandering</li>\n",
      "\t<li class=\"fragment level2\">People are less happy when mind-wandering</li>\n"
     ]
    },
    {
     "cell_type": "markdown",
     "metadata": {
      "slideshow": {
       "slide_type": "slide"
      }
     },
     "source": [
      "<h1>Capitalizing on what's already out there</h1>\n",
      "<li class=\"fragment level1\">Not every question requires new data</li>\n",
      "<li class=\"fragment level1\">Some existing datasets could use new questions</li>\n",
      "<li class=\"fragment level1\">Many web-scale datasets are sitting around waiting to be mined</li>\n",
      "\t<li class=\"fragment level2\">Often, naturalistic analogs of datasets collected in the lab</li>\n",
      "<li class=\"fragment level1\">E.g., we know personality shapes written word use (Pennebaker & King, 1999)</li>\n",
      "\t<li class=\"fragment level2\">Large writing samples are hard to acquire in a lab or classroom</li>\n",
      "\t<li class=\"fragment level2\">But not on the web!</li>\n",
      "\t<li class=\"fragment level2\">Yarkoni (2010) collected personality data from bloggers: n = 692, > 100,000 words/subject</li>\n",
      "<li class=\"fragment level1\">Often less work, much richer data</li>\n",
      "\t<li class=\"fragment level2\">E.g., compare limited research-oriented image sets with Flickr database</li>\n",
      "<li class=\"fragment level1\">Data mining/exploration is just as much a creative enterprise as experimental design</li>\n"
     ]
    },
    {
     "cell_type": "markdown",
     "metadata": {
      "slideshow": {
       "slide_type": "slide"
      }
     },
     "source": [
      "<h1>Personality shapes word use</h1>\n",
      "![Personality and word use](images/Yarkoni_blogging1.jpg)"
     ]
    },
    {
     "cell_type": "markdown",
     "metadata": {
      "slideshow": {
       "slide_type": "slide"
      }
     },
     "source": [
      "<h1>...and blogging activity</h1>\n",
      "![Personality and word use](images/Yarkoni_blogging2.jpg)"
     ]
    },
    {
     "cell_type": "markdown",
     "metadata": {
      "slideshow": {
       "slide_type": "slide"
      }
     },
     "source": [
      "<h1>Mood detection using Twitter</h1>\n",
      "![Golder & Macy](images/golder_macy.jpg) <span class='citation'>[Golder & Macy, 2011](http://www.sciencemag.org/content/333/6051/1878)</span>"
     ]
    },
    {
     "cell_type": "markdown",
     "metadata": {
      "slideshow": {
       "slide_type": "slide"
      }
     },
     "source": [
      "<h1>API use</h1>\n",
      "<li class=\"fragment level1\">Many companies/services provide a public interface to their data</li>\n",
      "\t<li class=\"fragment level2\">And they *want* you to use it</li>\n",
      "<li class=\"fragment level1\">Many APIs have third-party packages in multiple languages to facilitate access</li>\n",
      "<li class=\"fragment level1\">E.g., Google APIs ([http://code.google.com/apis/console](https://console.developers.google.com/project))</li>\n",
      "\t<li class=\"fragment level2\">Allows your project to use 100+ different services</li>\n",
      "\t<li class=\"fragment level2\">Most have pretty generous courtesy limits, and users can pay for more</li>\n",
      "\t<li class=\"fragment level2\">Enable powerful data mining</li>\n",
      "\t<li class=\"fragment level2\">Take privacy concerns very seriously; most data are not accessible without permission</li>\n",
      "<li class=\"fragment level1\">Useful APIs are everywhere</li>\n",
      "\t<li class=\"fragment level2\">Google, Twitter, Mendeley, Flickr, etc.</li>\n",
      "<li class=\"fragment level1\">But there are logistical issues</li>\n",
      "\t<li class=\"fragment level2\">Authentication, changes to the API, rate limits, etc.</li>\n",
      "<li class=\"fragment level1\">An example...</li>\n"
     ]
    },
    {
     "cell_type": "markdown",
     "metadata": {
      "slideshow": {
       "slide_type": "slide"
      }
     },
     "source": [
      "<h1>And then there's Facebook...</h1>\n",
      "<li class=\"fragment level1\">\"Bond et al. (2012): \"A 61-million-person experiment in social influence and political mobilization\"</li>\n",
      "<li class=\"fragment level1\">Facebook users randomly assigned to social message, informational message, or no message conditions</li>\n",
      "<li class=\"fragment level1\">Social messages increased self-reported and actual voting</li>\n",
      "<li class=\"fragment level1\">Strongest claim: one message on Facebook increased voter turnout by 0.6%</li>\n",
      "<li class=\"fragment level1\">The effects are numerically tiny (< 1% change), but societally important</li>\n"
     ]
    },
    {
     "cell_type": "markdown",
     "metadata": {
      "slideshow": {
       "slide_type": "slide"
      }
     },
     "source": [
      "<h1>![facebook study](images/facebook_study.jpg)</h1>\n"
     ]
    },
    {
     "cell_type": "markdown",
     "metadata": {
      "slideshow": {
       "slide_type": "slide"
      }
     },
     "source": [
      "<h1>Doing it the hard way</h1>\n",
      "<li class=\"fragment level1\">Programmatic access is nice, but not strictly necessary</li>\n",
      "<li class=\"fragment level1\">You can also scrape just about any website's content</li>\n",
      "\t<li class=\"fragment level2\">Be aware of legal restrictions!</li>\n",
      "\t<li class=\"fragment level2\">Scrape too quickly and you may get banned</li>\n",
      "<li class=\"fragment level1\">Scraping/parsing libraries exist for just about every language</li>\n"
     ]
    },
    {
     "cell_type": "markdown",
     "metadata": {
      "slideshow": {
       "slide_type": "slide"
      }
     },
     "source": [
      "<h1>Scraping in Python</h1>\n",
      "<li class=\"fragment level1\">Let's count all the words in the posts on the first page of my blog...</li>\n"
     ]
    },
    {
     "cell_type": "code",
     "collapsed": false,
     "input": [
      "# Import all the stuff we'll need...\n",
      "import requests                 # for scraping\n",
      "from bs4 import BeautifulSoup   # for parsing html\n",
      "import re                       # regular expressions\n",
      "from collections import Counter # for word counting\n",
      "import numpy as np \n",
      "import pandas as pd\n",
      "import matplotlib.pyplot as plt\n",
      "\n",
      "# Scrape the HTML from front page of blog\n",
      "html = requests.get('http://talyarkoni.org/blog').text\n",
      "print \"First thousand characters:\\n\", html[:1000]\n",
      "\n",
      "# Extract the text for all posts we can find\n",
      "soup = BeautifulSoup(html)\n",
      "entries = [e.text for e in soup.find_all(class_='entry-content')]\n",
      "print \"Number of entries in page: \" + str(len(entries))\n",
      "\n",
      "# Tokenize text of each post\n",
      "word_counts = [re.split('\\s+', e.lower()) for e in entries]\n",
      "print \"Word counts for first post:\", word_counts[0]\n",
      "\n",
      "# Convert to frequency table\n",
      "freq_tables = [Counter(wc) for wc in word_counts]\n",
      "print \"Frequency table for first post:\", freq_tables[0]\n",
      "\n",
      "# Make pandas DataFrame\n",
      "df = pd.DataFrame.from_dict(freq_tables).fillna(0).T\n",
      "print df\n",
      "\n",
      "# Get total count for each word and sort in descending order\n",
      "df['total'] = df.apply(np.sum, axis=1)\n",
      "df = df.sort('total', ascending=False)\n",
      "print df\n",
      "\n",
      "print df.loc[['different', 'type', 'of', 'thing']].sum()"
     ],
     "language": "python",
     "metadata": {
      "slideshow": {
       "slide_type": "fragment"
      }
     },
     "outputs": []
    }
   ],
   "metadata": {}
  }
 ]
}